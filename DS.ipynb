{
 "cells": [
  {
   "cell_type": "markdown",
   "id": "cff674ee",
   "metadata": {},
   "source": [
    "# Segmentación de clientes"
   ]
  },
  {
   "cell_type": "code",
   "execution_count": 4,
   "id": "1909c3a9",
   "metadata": {},
   "outputs": [],
   "source": [
    "# segmentacion de clientes con python"
   ]
  }
 ],
 "metadata": {
  "kernelspec": {
   "display_name": "Python 3",
   "language": "python",
   "name": "python3"
  },
  "language_info": {
   "codemirror_mode": {
    "name": "ipython",
    "version": 3
   },
   "file_extension": ".py",
   "mimetype": "text/x-python",
   "name": "python",
   "nbconvert_exporter": "python",
   "pygments_lexer": "ipython3",
   "version": "3.12.10"
  }
 },
 "nbformat": 4,
 "nbformat_minor": 5
}
