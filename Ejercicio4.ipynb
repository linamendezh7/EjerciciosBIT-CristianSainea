{
  "nbformat": 4,
  "nbformat_minor": 0,
  "metadata": {
    "colab": {
      "provenance": [],
      "authorship_tag": "ABX9TyOHkO4N4CKYXVUjmgMCTgaI",
      "include_colab_link": true
    },
    "kernelspec": {
      "name": "python3",
      "display_name": "Python 3"
    },
    "language_info": {
      "name": "python"
    }
  },
  "cells": [
    {
      "cell_type": "markdown",
      "metadata": {
        "id": "view-in-github",
        "colab_type": "text"
      },
      "source": [
        "<a href=\"https://colab.research.google.com/github/linamendezh7/EjerciciosBIT-CristianSainea/blob/main/Ejercicio4.ipynb\" target=\"_parent\"><img src=\"https://colab.research.google.com/assets/colab-badge.svg\" alt=\"Open In Colab\"/></a>"
      ]
    },
    {
      "cell_type": "markdown",
      "source": [
        "Actividad de estructura de datos"
      ],
      "metadata": {
        "id": "bpKpsI1p2TnS"
      }
    },
    {
      "cell_type": "markdown",
      "source": [
        "#### **Parte 1: Bucle for con edades**\n",
        "\n",
        "1. Crea una lista de edades: [12, 17, 8, 15, 22, 9, 30, 25].\n",
        "\n",
        "2. Usa un bucle for para iterar sobre cada edad:\n",
        "\n",
        " - Si la edad es 25, imprime \"¡Encontramos al estudiante de 25 años! Deteniendo el análisis.\" y termina el bucle con break.\n",
        "\n",
        " - Si la edad es menor a 10, omite esa iteración con continue.\n",
        "\n",
        " - Si la edad es 18 o mayor, imprime \"Adulto: [edad] años\".\n",
        "\n",
        " - En cualquier otro caso, imprime \"Menor: [edad] años\"."
      ],
      "metadata": {
        "id": "0bGmthY2bX3w"
      }
    },
    {
      "cell_type": "code",
      "source": [
        "Edades = [12, 17, 8, 15, 22, 9, 30, 25]\n",
        "for edad in Edades:\n",
        "  if edad == 25:\n",
        "     print(\"¡Encontramos al estudiante de 25 años! Deteniendo el análisis.\")\n",
        "     break\n",
        "  elif edad <10:\n",
        "      continue\n",
        "  elif edad >= 18:\n",
        "      print([f\"Adulto:{edad} años\"])\n",
        "  else:\n",
        "    print([f\"Menor:{edad} años\"])\n"
      ],
      "metadata": {
        "colab": {
          "base_uri": "https://localhost:8080/"
        },
        "id": "8frxdMhu2oMh",
        "outputId": "f3bce5a7-5abb-4631-85db-16f889ae021a"
      },
      "execution_count": 18,
      "outputs": [
        {
          "output_type": "stream",
          "name": "stdout",
          "text": [
            "['Menor:12 años']\n",
            "['Menor:17 años']\n",
            "['Menor:15 años']\n",
            "['Adulto:22 años']\n",
            "['Adulto:30 años']\n",
            "¡Encontramos al estudiante de 25 años! Deteniendo el análisis.\n"
          ]
        }
      ]
    },
    {
      "cell_type": "markdown",
      "source": [
        "Parte 2: Bucle while con nombres\n",
        "Crea una lista de nombres: [\"Juan\", \"Pedro\", \"Jorge\", \"María\",\"Ana\"].\n",
        "\n",
        "Usa un bucle while para iterar sobre los nombres:\n",
        "\n",
        "Si el nombre es \"Ana\", imprime \"¡Ana está en la lista!\" y termina el bucle con break.\n",
        "\n",
        "Si el nombre empieza con \"J\", omite ese nombre con continue.\n",
        "\n",
        "En cualquier otro caso, imprime el nombre."
      ],
      "metadata": {
        "id": "_13JBmBv495h"
      }
    },
    {
      "cell_type": "code",
      "source": [
        "Nombres =  [\"Juan\",\"Pedro\",\"Jorge\",\"María\",\"Ana\"]\n",
        "for nombre in Nombres:\n",
        "  primer= nombre[0]\n",
        "  if nombre == (\"Ana\"):\n",
        "    print(\"¡Ana está en la lista!\")\n",
        "    break\n",
        "  elif primer == \"J\":\n",
        "   continue\n",
        "  else:\n",
        "    print(f\"nombre {nombre}\")"
      ],
      "metadata": {
        "colab": {
          "base_uri": "https://localhost:8080/"
        },
        "id": "D3wOeqBa5HW7",
        "outputId": "49010244-2297-4f82-9d9e-3069eebad7fe"
      },
      "execution_count": 35,
      "outputs": [
        {
          "output_type": "stream",
          "name": "stdout",
          "text": [
            "nombre Pedro\n",
            "nombre María\n",
            "¡Ana está en la lista!\n"
          ]
        }
      ]
    }
  ]
}